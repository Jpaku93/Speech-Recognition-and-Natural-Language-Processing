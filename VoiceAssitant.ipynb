{
 "cells": [
  {
   "cell_type": "markdown",
   "metadata": {},
   "source": [
    "- Make notes\n",
    "- store notes as txt file\n",
    "- make a csv from all text files and save it\n",
    "- translate the csv to dutch\n",
    "\n",
    "- Delete notes\n",
    "- take a screenshot"
   ]
  },
  {
   "cell_type": "markdown",
   "metadata": {},
   "source": [
    "github ref: https://github.com/vishalpatil0/Heisenberg"
   ]
  },
  {
   "cell_type": "markdown",
   "metadata": {},
   "source": [
    "youtube reference: https://www.youtube.com/watch?v=xho4CTUVI4o&t=8s"
   ]
  },
  {
   "cell_type": "markdown",
   "metadata": {},
   "source": [
    "# Recognize speech"
   ]
  },
  {
   "cell_type": "code",
   "execution_count": null,
   "metadata": {},
   "outputs": [],
   "source": []
  },
  {
   "cell_type": "code",
   "execution_count": 1,
   "metadata": {},
   "outputs": [
    {
     "name": "stderr",
     "output_type": "stream",
     "text": [
      "C:\\Users\\Acer\\anaconda3\\lib\\site-packages\\numpy\\_distributor_init.py:30: UserWarning: loaded more than 1 DLL from .libs:\n",
      "C:\\Users\\Acer\\anaconda3\\lib\\site-packages\\numpy\\.libs\\libopenblas.EL2C6PLE4ZYW3ECEVIV3OXXGRN2NRFM2.gfortran-win_amd64.dll\n",
      "C:\\Users\\Acer\\anaconda3\\lib\\site-packages\\numpy\\.libs\\libopenblas.WCDJNK7YVMPZQ2ME2ZZHJJRJ3JIKNDB7.gfortran-win_amd64.dll\n",
      "C:\\Users\\Acer\\anaconda3\\lib\\site-packages\\numpy\\.libs\\libopenblas.XWYDX2IKJW2NMTWSFYNGFUWKQU3LYTCZ.gfortran-win_amd64.dll\n",
      "  warnings.warn(\"loaded more than 1 DLL from .libs:\"\n"
     ]
    }
   ],
   "source": [
    "import speech_recognition as sr\n",
    "import time, os\n",
    "import os, pyautogui, datetime, subprocess\n",
    "import pandas as pd\n",
    "import pickle\n",
    "from keras.models import load_model\n",
    "home = os.getcwd()\n",
    "date=datetime.datetime.now()\n",
    "\n",
    "def takeCommand():\n",
    "    \n",
    "    done = False\n",
    "    \"\"\"It take microphone input from the user and return string\"\"\"\n",
    "    recog=sr.Recognizer()\n",
    "    while (done == False):\n",
    "        with sr.Microphone() as source:\n",
    "            #r.adjust_for_ambient_noise(source)\n",
    "            recog.pause_threshold = 0.5 # List spoken phrase after 1 sec pause\n",
    "            print('listining....') # Acknowledge active microphone\n",
    "            # r.energy_threshold = 45.131829621150224\n",
    "            # print(sr.Microphone.list_microphone_names())\n",
    "            #print(r.energy_threshold)\n",
    "            audio=recog.listen(source) # listen through micr microphone\n",
    "            \n",
    "            \n",
    "        try:           \n",
    "            query= recog.recognize_google(audio) # recognize english microphone input with google speech recognition\n",
    "            print(\"you said\", query)\n",
    "            done = True\n",
    "            try:\n",
    "                return query \n",
    "            except Exception as e:\n",
    "                pass\n",
    "                \n",
    "        except Exception as e:\n",
    "            print(\"I cant hear anything??\")"
   ]
  },
  {
   "cell_type": "markdown",
   "metadata": {},
   "source": [
    "# action classes"
   ]
  },
  {
   "cell_type": "code",
   "execution_count": 2,
   "metadata": {},
   "outputs": [],
   "source": [
    "import pickle\n",
    "from keras.models import load_model\n",
    "from keras_preprocessing.sequence import pad_sequences\n",
    "\n",
    "# Define a funcction for converting logits into text\n",
    "def logits_to_text(logits, tokenizer):\n",
    "    ''' Converting dutch tokens to words'''\n",
    "    # Get index to words\n",
    "    index2word = {id: word for word, id in tokenizer.word_index.items()}\n",
    "    # Add '<PAD>' at start of index2word\n",
    "    index2word[0] = ''\n",
    "    # Get the text\n",
    "    text = \" \".join([index2word[prediction] for prediction in np.argmax(logits, 1)])\n",
    "    return text\n",
    "# encode and pad sequences\n",
    "def encode_sequences(tokenizer, length, lines):\n",
    "    ''' Encode the input sentences for predicting translations '''\n",
    "    # integer encode sequences\n",
    "    seq = tokenizer.texts_to_sequences(lines)\n",
    "    # pad sequences with 0 values\n",
    "    seq = pad_sequences(seq, maxlen=length, padding='post')\n",
    "    return seq"
   ]
  },
  {
   "cell_type": "code",
   "execution_count": 3,
   "metadata": {},
   "outputs": [],
   "source": [
    "import os, pyautogui, datetime, subprocess\n",
    "import pandas as pd\n",
    "import numpy as np\n",
    "\n",
    "def thereExists(terms,query):\n",
    "    ''' find query in terms '''\n",
    "    for term in terms:\n",
    "        if term in query:\n",
    "            return True\n",
    "\n",
    "class screenshot:\n",
    "    date=datetime.datetime.now()\n",
    "    def takeSS():\n",
    "        ''' take a screenshot, make a file and save it with date as new name'''\n",
    "        img_captured=pyautogui.screenshot()\n",
    "        a=os.getcwd()\n",
    "        \n",
    "        if not os.path.exists(\"Screenshots\"):\n",
    "            os.mkdir(\"Screenshots\")\n",
    "        os.chdir('Screenshots')\n",
    "        ImageName='screenshot-'+str(datetime.datetime.now()).replace(':','-')+'.png'\n",
    "        img_captured.save(ImageName)\n",
    "        os.startfile(ImageName)\n",
    "        os.chdir(a)\n",
    "\n",
    "        \n",
    "class note:\n",
    "      \n",
    "    def addNote(data):\n",
    "        date=datetime.datetime.now() \n",
    "        ''' create new filename with date and time store in file called Notes '''\n",
    "        # prepare new name\n",
    "        filename=str(date).replace(':','-')+'-note.txt'\n",
    "        \n",
    "        # make new file if it doesnt already exist\n",
    "        if not os.path.exists('Notes'):\n",
    "            os.mkdir('Notes')\n",
    "        # change to note file\n",
    "        os.chdir('Notes')\n",
    "        # write query in txt file\n",
    "        with open(filename,'w') as f:\n",
    "            f.write(data)\n",
    "        # open notepad with recently made txt file \n",
    "        # subprocess.Popen(['notepad.exe',filename])\n",
    "        \n",
    "        # change back to original directory\n",
    "        os.chdir(home)\n",
    "    \n",
    "    def getNotes():\n",
    "        date=datetime.datetime.now()\n",
    "        ''' list strings from .txt files to display as in csv with string manipulation to form date and time columns '''\n",
    "        # make list for file paths\n",
    "        fpath = []\n",
    "        # make list for sentences\n",
    "        lines = []\n",
    "        os.chdir(home)\n",
    "        # get txt file names that end with .txt from Note directory\n",
    "        for filename in filter(lambda p: p.endswith(\"txt\"), os.listdir('Notes')):\n",
    "            # list filepaths\n",
    "            fpath.append(filename)\n",
    "            \n",
    "            # open selected path and take strings from txt file \n",
    "            filepath = 'Notes\\\\'+filename\n",
    "            with open(filepath, mode='r') as f:\n",
    "                # append to sentence list\n",
    "                lines += [f.read()]\n",
    "\n",
    "\n",
    "        # set lines as dataframe and preprocess date and time strings\n",
    "        df = pd.DataFrame()\n",
    "        date, time = [], []\n",
    "        df['lines'], df['date'] = lines, fpath\n",
    "        s = df['date'].str.split(\".\")\n",
    "        for i in s:\n",
    "            n = i[0].split(' ')\n",
    "            date.append(n[0])\n",
    "            time.append(n[1])\n",
    "        df['date'], df['time']= date, time\n",
    "        df.index = df.index + 1\n",
    "        \n",
    "        ''' Insted of saving text files the notes could go straight into csv format '''\n",
    "        return df\n",
    "        \n",
    "    def deleteNote(index):\n",
    "        ''' list file path to get name of indexed file to delete '''\n",
    "        count = 1\n",
    "        \n",
    "        for idx, filename in enumerate(filter(lambda p: p.endswith(\"txt\"), os.listdir('Notes'))):\n",
    "#             print(idx)\n",
    "            count = idx\n",
    "            try:\n",
    "                if(idx + 1 == int(index)):\n",
    "                    filepath = os.path.join('Notes', filename)\n",
    "                    with open(filepath, mode='r') as f:\n",
    "                        print('delete' + f.read())\n",
    "                        f.close()\n",
    "                        query = takeCommand()\n",
    "                        if 'yes' in query:\n",
    "                            os.remove(filepath)\n",
    "                            print('note removed')\n",
    "                        elif 'no' in query:\n",
    "                            return 0\n",
    "                        else: # second warning then end\n",
    "                            query = takeCommand()\n",
    "                            if 'yes' in query:\n",
    "                                os.remove(filepath)\n",
    "                                print('note removed')\n",
    "                            elif 'no' in query:\n",
    "                                return 0\n",
    "                            else:\n",
    "                                print('retry')\n",
    "            except Exception as e:\n",
    "                print('didnt get that')\n",
    "                \n",
    "        try:\n",
    "            if(count < int(index)):\n",
    "                print('you dont have '+index+' notes')\n",
    "    \n",
    "        except Exception as e:\n",
    "            pass\n",
    "\n",
    "    \n",
    "    def saveNoteCSV():\n",
    "        ''' create new filename with date and time store in file called Notes '''\n",
    "        date=datetime.datetime.now()\n",
    "        data = note.getNotes()\n",
    "        date= datetime.datetime.now()\n",
    "        if not os.path.exists('Notes\\\\Data'):\n",
    "            os.mkdir('Notes\\\\Data')\n",
    "        os.chdir('Notes\\\\Data')\n",
    "        filename=str(date).replace(':','-')+'-note.csv'\n",
    "        data.to_csv(filename)\n",
    "        os.chdir(home)\n",
    "        print('note csv saved as ' + filename )\n",
    "        print('Notes\\\\Data')\n",
    "         \n",
    "    \n",
    "    def translateNotesToDutch():\n",
    "        ''' Load and predict strings for dutch translations and return a translated dataframe'''\n",
    "        data = note.getNotes()\n",
    "        os.chdir('Translator\\\\Tokenizer')\n",
    "        with open('nld_eng_tokenizer.pickle', 'rb') as fp:\n",
    "            eng_tokens = pickle.load(fp)\n",
    "        with open('nld_deu_tokenizer.pickle', 'rb') as fp:\n",
    "            deu_tokens = pickle.load(fp)\n",
    "        os.chdir(home)\n",
    "        os.chdir('Translator\\\\Models')\n",
    "        model = load_model(os.listdir()[0])\n",
    "        pred = encode_sequences(eng_tokens, 8, data.iloc[:,0].values)\n",
    "        prediction = model.predict(pred)\n",
    "        # Convert the logits into text\n",
    "        predicted_text = []\n",
    "        for i in prediction:\n",
    "            predicted_text.append(logits_to_text(logits = i, tokenizer = deu_tokens))\n",
    "        pred_df = pd.DataFrame({'actual' : data.iloc[:,0], 'predicted' : predicted_text})\n",
    "        os.chdir(home)\n",
    "        display(pred_df)\n",
    "        "
   ]
  },
  {
   "cell_type": "markdown",
   "metadata": {},
   "source": [
    "# Mainframe and Utterances terms\n"
   ]
  },
  {
   "cell_type": "code",
   "execution_count": 4,
   "metadata": {},
   "outputs": [],
   "source": [
    "def mainframe():\n",
    "    # Logic for execution task based on query\n",
    "    query_for_future=None\n",
    "    query = takeCommand() \n",
    "    \n",
    "    # make note \n",
    "    if thereExists(['make notes', 'make a note','take notes','take a note','open notes','open note','add note'],query):\n",
    "        print(\"What would you like to write down?\")\n",
    "        data = takeCommand()\n",
    "        note.addNote(data)\n",
    "        print(\"I made a note of that.\")\n",
    "    \n",
    "    # show all notes as CSV format\n",
    "    if thereExists(['show notes', 'display notes', 'get notes', \n",
    "                    'open notes'], query):\n",
    "        notes = note.getNotes()\n",
    "        display(notes)\n",
    "        \n",
    "    # delete note \n",
    "    if thereExists(['delete note', 'remove a note', 'remove note', 'delete a note'], query):\n",
    "        if 'delete note to' in query:\n",
    "            note.deleteNote(2)\n",
    "        elif 'delete note for' in query:\n",
    "            note.deleteNote(4)\n",
    "        elif 'delete note ' in query:\n",
    "            query=query.replace('delete note ','')\n",
    "            note.deleteNote(query)\n",
    "        else:\n",
    "            if 'number ' in query:\n",
    "                query=query.replace('number ','')\n",
    "                note.deleteNote(query)\n",
    "                \n",
    "            else:\n",
    "                print(\"Which one?\")\n",
    "                query = takeCommand()\n",
    "                note.deleteNote(query)\n",
    "                \n",
    "    # save a CSV format of all notes\n",
    "    if thereExists(['save', 'save notes', 'save csv', 'save file', 'save my notes as csv'], query):\n",
    "        note.saveNoteCSV()\n",
    "        \n",
    "    # Translate to dutch     \n",
    "    if thereExists(['Translate to dutch', 'translate'], query):\n",
    "        note.translateNotesToDutch()\n",
    "    \n",
    "    # Take a screenshot\n",
    "    if thereExists(['take a screenshot', 'screenshot', 'snap', \n",
    "                    'snap screen'], query):\n",
    "        screenshot.takeSS()"
   ]
  },
  {
   "cell_type": "markdown",
   "metadata": {},
   "source": [
    "# Function samples"
   ]
  },
  {
   "cell_type": "code",
   "execution_count": 5,
   "metadata": {},
   "outputs": [
    {
     "data": {
      "text/plain": [
       "'C:\\\\Users\\\\Acer\\\\NLP303_Paku_Johnson_Assessment3'"
      ]
     },
     "execution_count": 5,
     "metadata": {},
     "output_type": "execute_result"
    }
   ],
   "source": [
    "os.getcwd()"
   ]
  },
  {
   "cell_type": "code",
   "execution_count": 31,
   "metadata": {},
   "outputs": [],
   "source": [
    "# add a note as text\n",
    "text = 'I just need to sort this thingy'\n",
    "note.addNote(text)"
   ]
  },
  {
   "cell_type": "code",
   "execution_count": 32,
   "metadata": {},
   "outputs": [],
   "source": [
    "# index is greater or equal to 1 \n",
    "idx = 10\n",
    "note.deleteNote(idx)"
   ]
  },
  {
   "cell_type": "code",
   "execution_count": 33,
   "metadata": {},
   "outputs": [
    {
     "data": {
      "text/html": [
       "<div>\n",
       "<style scoped>\n",
       "    .dataframe tbody tr th:only-of-type {\n",
       "        vertical-align: middle;\n",
       "    }\n",
       "\n",
       "    .dataframe tbody tr th {\n",
       "        vertical-align: top;\n",
       "    }\n",
       "\n",
       "    .dataframe thead th {\n",
       "        text-align: right;\n",
       "    }\n",
       "</style>\n",
       "<table border=\"1\" class=\"dataframe\">\n",
       "  <thead>\n",
       "    <tr style=\"text-align: right;\">\n",
       "      <th></th>\n",
       "      <th>lines</th>\n",
       "      <th>date</th>\n",
       "      <th>time</th>\n",
       "    </tr>\n",
       "  </thead>\n",
       "  <tbody>\n",
       "    <tr>\n",
       "      <th>1</th>\n",
       "      <td>super chill</td>\n",
       "      <td>2022-06-17</td>\n",
       "      <td>15-32-04</td>\n",
       "    </tr>\n",
       "    <tr>\n",
       "      <th>2</th>\n",
       "      <td>super chill</td>\n",
       "      <td>2022-06-17</td>\n",
       "      <td>15-32-52</td>\n",
       "    </tr>\n",
       "    <tr>\n",
       "      <th>3</th>\n",
       "      <td>Go to school</td>\n",
       "      <td>2022-06-17</td>\n",
       "      <td>15-33-05</td>\n",
       "    </tr>\n",
       "    <tr>\n",
       "      <th>4</th>\n",
       "      <td>Hello I am Jeff</td>\n",
       "      <td>2022-06-17</td>\n",
       "      <td>15-33-20</td>\n",
       "    </tr>\n",
       "    <tr>\n",
       "      <th>5</th>\n",
       "      <td>This is a note taking translator</td>\n",
       "      <td>2022-06-17</td>\n",
       "      <td>15-33-40</td>\n",
       "    </tr>\n",
       "    <tr>\n",
       "      <th>6</th>\n",
       "      <td>I just need to sort this thingy</td>\n",
       "      <td>2022-06-17</td>\n",
       "      <td>15-33-57</td>\n",
       "    </tr>\n",
       "  </tbody>\n",
       "</table>\n",
       "</div>"
      ],
      "text/plain": [
       "                              lines        date      time\n",
       "1                       super chill  2022-06-17  15-32-04\n",
       "2                       super chill  2022-06-17  15-32-52\n",
       "3                      Go to school  2022-06-17  15-33-05\n",
       "4                   Hello I am Jeff  2022-06-17  15-33-20\n",
       "5  This is a note taking translator  2022-06-17  15-33-40\n",
       "6   I just need to sort this thingy  2022-06-17  15-33-57"
      ]
     },
     "execution_count": 33,
     "metadata": {},
     "output_type": "execute_result"
    }
   ],
   "source": [
    "# show all the notes\n",
    "note.getNotes()"
   ]
  },
  {
   "cell_type": "code",
   "execution_count": 34,
   "metadata": {},
   "outputs": [
    {
     "name": "stdout",
     "output_type": "stream",
     "text": [
      "note csv saved as 2022-06-17 15-33-58.868317-note.csv\n",
      "Notes\\Data\n"
     ]
    }
   ],
   "source": [
    "# save the csv and show the file\n",
    "note.saveNoteCSV()"
   ]
  },
  {
   "cell_type": "code",
   "execution_count": 35,
   "metadata": {},
   "outputs": [
    {
     "name": "stdout",
     "output_type": "stream",
     "text": [
      "WARNING:tensorflow:6 out of the last 6 calls to <function Model.make_predict_function.<locals>.predict_function at 0x00000118209503A0> triggered tf.function retracing. Tracing is expensive and the excessive number of tracings could be due to (1) creating @tf.function repeatedly in a loop, (2) passing tensors with different shapes, (3) passing Python objects instead of tensors. For (1), please define your @tf.function outside of the loop. For (2), @tf.function has reduce_retracing=True option that can avoid unnecessary retracing. For (3), please refer to https://www.tensorflow.org/guide/function#controlling_retracing and https://www.tensorflow.org/api_docs/python/tf/function for  more details.\n",
      "1/1 [==============================] - 4s 4s/step\n"
     ]
    },
    {
     "data": {
      "text/html": [
       "<div>\n",
       "<style scoped>\n",
       "    .dataframe tbody tr th:only-of-type {\n",
       "        vertical-align: middle;\n",
       "    }\n",
       "\n",
       "    .dataframe tbody tr th {\n",
       "        vertical-align: top;\n",
       "    }\n",
       "\n",
       "    .dataframe thead th {\n",
       "        text-align: right;\n",
       "    }\n",
       "</style>\n",
       "<table border=\"1\" class=\"dataframe\">\n",
       "  <thead>\n",
       "    <tr style=\"text-align: right;\">\n",
       "      <th></th>\n",
       "      <th>actual</th>\n",
       "      <th>predicted</th>\n",
       "    </tr>\n",
       "  </thead>\n",
       "  <tbody>\n",
       "    <tr>\n",
       "      <th>1</th>\n",
       "      <td>super chill</td>\n",
       "      <td>hallo</td>\n",
       "    </tr>\n",
       "    <tr>\n",
       "      <th>2</th>\n",
       "      <td>super chill</td>\n",
       "      <td>hallo</td>\n",
       "    </tr>\n",
       "    <tr>\n",
       "      <th>3</th>\n",
       "      <td>Go to school</td>\n",
       "      <td>ga naar school school</td>\n",
       "    </tr>\n",
       "    <tr>\n",
       "      <th>4</th>\n",
       "      <td>Hello I am Jeff</td>\n",
       "      <td>hallo ik ben</td>\n",
       "    </tr>\n",
       "    <tr>\n",
       "      <th>5</th>\n",
       "      <td>This is a note taking translator</td>\n",
       "      <td>dit is een ziekte</td>\n",
       "    </tr>\n",
       "    <tr>\n",
       "      <th>6</th>\n",
       "      <td>I just need to sort this thingy</td>\n",
       "      <td>ik heb ik meer ik ik</td>\n",
       "    </tr>\n",
       "  </tbody>\n",
       "</table>\n",
       "</div>"
      ],
      "text/plain": [
       "                             actual                  predicted\n",
       "1                       super chill               hallo       \n",
       "2                       super chill               hallo       \n",
       "3                      Go to school  ga naar school school    \n",
       "4                   Hello I am Jeff          hallo ik ben     \n",
       "5  This is a note taking translator      dit is een ziekte    \n",
       "6   I just need to sort this thingy     ik heb ik meer ik ik  "
      ]
     },
     "metadata": {},
     "output_type": "display_data"
    }
   ],
   "source": [
    "note.translateNotesToDutch()"
   ]
  },
  {
   "cell_type": "code",
   "execution_count": 36,
   "metadata": {},
   "outputs": [],
   "source": [
    "# the translator is terrible :("
   ]
  },
  {
   "cell_type": "code",
   "execution_count": null,
   "metadata": {},
   "outputs": [],
   "source": []
  }
 ],
 "metadata": {
  "kernelspec": {
   "display_name": "Python 3",
   "language": "python",
   "name": "python3"
  },
  "language_info": {
   "codemirror_mode": {
    "name": "ipython",
    "version": 3
   },
   "file_extension": ".py",
   "mimetype": "text/x-python",
   "name": "python",
   "nbconvert_exporter": "python",
   "pygments_lexer": "ipython3",
   "version": "3.8.5"
  }
 },
 "nbformat": 4,
 "nbformat_minor": 4
}
